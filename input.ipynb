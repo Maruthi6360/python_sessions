{
 "cells": [
  {
   "cell_type": "code",
   "execution_count": 8,
   "id": "efaf17ae-843c-494a-af3e-188064300125",
   "metadata": {},
   "outputs": [
    {
     "data": {
      "text/plain": [
       "82"
      ]
     },
     "execution_count": 8,
     "metadata": {},
     "output_type": "execute_result"
    }
   ],
   "source": [
    "import random as rd\n",
    "val=rd.randint(1,100)\n",
    "val"
   ]
  },
  {
   "cell_type": "code",
   "execution_count": 10,
   "id": "d70dca12-1dbb-4f20-aea8-936dea784c9a",
   "metadata": {},
   "outputs": [
    {
     "name": "stdin",
     "output_type": "stream",
     "text": [
      "Enter a number to get it's square :  12\n"
     ]
    },
    {
     "data": {
      "text/plain": [
       "144"
      ]
     },
     "execution_count": 10,
     "metadata": {},
     "output_type": "execute_result"
    }
   ],
   "source": [
    "value = eval(input(\"Enter a number to get it's square : \"))\n",
    "value*value"
   ]
  },
  {
   "cell_type": "code",
   "execution_count": 19,
   "id": "5be9a767-1257-4b02-beb0-c55e0909f773",
   "metadata": {},
   "outputs": [
    {
     "ename": "SyntaxError",
     "evalue": "invalid syntax (287315550.py, line 1)",
     "output_type": "error",
     "traceback": [
      "\u001b[1;36m  Cell \u001b[1;32mIn[19], line 1\u001b[1;36m\u001b[0m\n\u001b[1;33m    $try$-$except$\u001b[0m\n\u001b[1;37m    ^\u001b[0m\n\u001b[1;31mSyntaxError\u001b[0m\u001b[1;31m:\u001b[0m invalid syntax\n"
     ]
    }
   ],
   "source": [
    "$try$-$except$\n",
    "- raises the errors if any like(number divided by zero, string divided by integer.)\n",
    "- the errors will be captured by except block."
   ]
  },
  {
   "cell_type": "code",
   "execution_count": 23,
   "id": "bc5ee5dc-218a-4919-b818-876ddcb76357",
   "metadata": {},
   "outputs": [
    {
     "name": "stdout",
     "output_type": "stream",
     "text": [
      "50.0\n"
     ]
    }
   ],
   "source": [
    "try:\n",
    "    num = 100\n",
    "    print(num/2)\n",
    "except:\n",
    "    print(\"You are trying to divide a number by zero\")"
   ]
  },
  {
   "cell_type": "code",
   "execution_count": 3,
   "id": "d1c4c644-bb0b-4ec0-a41f-38bc961d5517",
   "metadata": {},
   "outputs": [
    {
     "name": "stdout",
     "output_type": "stream",
     "text": [
      "c is greater!\n"
     ]
    }
   ],
   "source": [
    "a=30\n",
    "b=20\n",
    "c=40\n",
    "if a>b:\n",
    "    if a>c:\n",
    "        print(\"a is greater!!\")\n",
    "    else:\n",
    "        print(\"c is greater!\")\n",
    "else:\n",
    "    if(b>c):\n",
    "        print(\"b is greater!\")\n",
    "    else:\n",
    "        print(\"c is greater!\")"
   ]
  },
  {
   "cell_type": "code",
   "execution_count": null,
   "id": "07947055-e482-4976-a140-de1078d245cb",
   "metadata": {},
   "outputs": [],
   "source": []
  }
 ],
 "metadata": {
  "kernelspec": {
   "display_name": "Python 3 (ipykernel)",
   "language": "python",
   "name": "python3"
  },
  "language_info": {
   "codemirror_mode": {
    "name": "ipython",
    "version": 3
   },
   "file_extension": ".py",
   "mimetype": "text/x-python",
   "name": "python",
   "nbconvert_exporter": "python",
   "pygments_lexer": "ipython3",
   "version": "3.12.4"
  }
 },
 "nbformat": 4,
 "nbformat_minor": 5
}
