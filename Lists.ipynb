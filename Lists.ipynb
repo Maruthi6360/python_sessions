{
 "cells": [
  {
   "cell_type": "code",
   "execution_count": 1,
   "id": "aefd94cf-78fc-4e53-b60f-0320732e9a0c",
   "metadata": {},
   "outputs": [
    {
     "data": {
      "text/plain": [
       "[1, 2, 3, 4]"
      ]
     },
     "execution_count": 1,
     "metadata": {},
     "output_type": "execute_result"
    }
   ],
   "source": [
    "list1 = [1,2,3,4]\n",
    "list1"
   ]
  },
  {
   "cell_type": "code",
   "execution_count": 3,
   "id": "18433b91-366d-4512-b0c0-74bab2684492",
   "metadata": {},
   "outputs": [
    {
     "data": {
      "text/plain": [
       "()"
      ]
     },
     "execution_count": 3,
     "metadata": {},
     "output_type": "execute_result"
    }
   ],
   "source": [
    "list1 = () #if you try create a empty list you should not to use syntax like this bcs it consider it has a tuple\n",
    "list1"
   ]
  },
  {
   "cell_type": "code",
   "execution_count": 5,
   "id": "80d0b133-c733-4cd3-9075-00fdaa15cc01",
   "metadata": {},
   "outputs": [
    {
     "data": {
      "text/plain": [
       "tuple"
      ]
     },
     "execution_count": 5,
     "metadata": {},
     "output_type": "execute_result"
    }
   ],
   "source": [
    "type(list1)"
   ]
  },
  {
   "cell_type": "code",
   "execution_count": 7,
   "id": "881dfb97-ae05-41d1-a559-3ff4086e9298",
   "metadata": {},
   "outputs": [
    {
     "data": {
      "text/plain": [
       "list"
      ]
     },
     "execution_count": 7,
     "metadata": {},
     "output_type": "execute_result"
    }
   ],
   "source": [
    "list1 = list() #this is the way to create a empty list\n",
    "type(list1)"
   ]
  },
  {
   "cell_type": "code",
   "execution_count": 15,
   "id": "1032068a-238e-4587-9aa0-c9b1eb21e6f9",
   "metadata": {},
   "outputs": [
    {
     "name": "stdout",
     "output_type": "stream",
     "text": [
      "4\n",
      "D\n"
     ]
    }
   ],
   "source": [
    "list1 = [1,2,3,4]\n",
    "list2 = ['A','B','C','D'] # D is max based on the ascii value\n",
    "list3 = [1,2,3,4,'A','B','C','D']\n",
    "print(max(list1))\n",
    "print(max(list2))\n",
    "# max(list3)\n",
    "#you cant compare different data types in list3"
   ]
  },
  {
   "cell_type": "code",
   "execution_count": 17,
   "id": "f8ca23d0-cd42-4786-bc5f-03e75c3114ae",
   "metadata": {},
   "outputs": [
    {
     "name": "stdout",
     "output_type": "stream",
     "text": [
      "4\n",
      "4\n",
      "8\n"
     ]
    }
   ],
   "source": [
    "print(len(list1))\n",
    "print(len(list2))\n",
    "print(len(list3))"
   ]
  },
  {
   "cell_type": "code",
   "execution_count": 19,
   "id": "8a207ee3-b405-44f0-bd73-3beaf8a6d356",
   "metadata": {},
   "outputs": [
    {
     "data": {
      "text/plain": [
       "10"
      ]
     },
     "execution_count": 19,
     "metadata": {},
     "output_type": "execute_result"
    }
   ],
   "source": [
    "sum(list1)"
   ]
  },
  {
   "cell_type": "code",
   "execution_count": 21,
   "id": "c70b88f3-78c6-47ad-b9a7-a1981b4de7c5",
   "metadata": {},
   "outputs": [
    {
     "ename": "TypeError",
     "evalue": "unsupported operand type(s) for +: 'int' and 'str'",
     "output_type": "error",
     "traceback": [
      "\u001b[1;31m---------------------------------------------------------------------------\u001b[0m",
      "\u001b[1;31mTypeError\u001b[0m                                 Traceback (most recent call last)",
      "Cell \u001b[1;32mIn[21], line 1\u001b[0m\n\u001b[1;32m----> 1\u001b[0m \u001b[38;5;28msum\u001b[39m(list2)\n",
      "\u001b[1;31mTypeError\u001b[0m: unsupported operand type(s) for +: 'int' and 'str'"
     ]
    }
   ],
   "source": [
    "sum(list2)"
   ]
  },
  {
   "cell_type": "code",
   "execution_count": 39,
   "id": "53d4c04b-4c6e-4423-9c25-63fbee7cb58d",
   "metadata": {},
   "outputs": [
    {
     "data": {
      "text/plain": [
       "'cherry'"
      ]
     },
     "execution_count": 39,
     "metadata": {},
     "output_type": "execute_result"
    }
   ],
   "source": [
    "list1 = [[[[['cherry']]]]]\n",
    "list1[0][0][0][0][0]"
   ]
  },
  {
   "cell_type": "code",
   "execution_count": 55,
   "id": "25203758-c0d3-4134-9c2d-dda583b3e566",
   "metadata": {},
   "outputs": [
    {
     "data": {
      "text/plain": [
       "'car'"
      ]
     },
     "execution_count": 55,
     "metadata": {},
     "output_type": "execute_result"
    }
   ],
   "source": [
    "list3 = [[[['A','B',[[[1,2,3,['car']]]]]]]]\n",
    "list3[0][0][0][2][0][0][3][0]"
   ]
  },
  {
   "cell_type": "code",
   "execution_count": 57,
   "id": "63179617-0c21-40e8-bb7d-430196df8374",
   "metadata": {},
   "outputs": [
    {
     "data": {
      "text/plain": [
       "[20, 2, 3, 4]"
      ]
     },
     "execution_count": 57,
     "metadata": {},
     "output_type": "execute_result"
    }
   ],
   "source": [
    "li=[1,2,3,4]\n",
    "li[0]=20\n",
    "li"
   ]
  },
  {
   "cell_type": "code",
   "execution_count": 59,
   "id": "50f39425-aa6b-49a9-9e15-6d1a56f192c5",
   "metadata": {},
   "outputs": [
    {
     "data": {
      "text/plain": [
       "[20, 2, 3, 4]"
      ]
     },
     "execution_count": 59,
     "metadata": {},
     "output_type": "execute_result"
    }
   ],
   "source": [
    "li"
   ]
  },
  {
   "cell_type": "code",
   "execution_count": 65,
   "id": "1de4ba2d-3315-46df-8cc1-1315fac74d64",
   "metadata": {},
   "outputs": [
    {
     "ename": "TypeError",
     "evalue": "'str' object does not support item assignment",
     "output_type": "error",
     "traceback": [
      "\u001b[1;31m---------------------------------------------------------------------------\u001b[0m",
      "\u001b[1;31mTypeError\u001b[0m                                 Traceback (most recent call last)",
      "Cell \u001b[1;32mIn[65], line 2\u001b[0m\n\u001b[0;32m      1\u001b[0m li\u001b[38;5;241m=\u001b[39m[\u001b[38;5;124m'\u001b[39m\u001b[38;5;124mwelcome\u001b[39m\u001b[38;5;124m'\u001b[39m]\n\u001b[1;32m----> 2\u001b[0m li[\u001b[38;5;241m0\u001b[39m][\u001b[38;5;241m2\u001b[39m] \u001b[38;5;241m=\u001b[39m \u001b[38;5;124m'\u001b[39m\u001b[38;5;124mL\u001b[39m\u001b[38;5;124m'\u001b[39m\n",
      "\u001b[1;31mTypeError\u001b[0m: 'str' object does not support item assignment"
     ]
    }
   ],
   "source": [
    "li=['welcome']\n",
    "li[0][2] = 'L'"
   ]
  },
  {
   "cell_type": "code",
   "execution_count": 2,
   "id": "96862022-6828-4845-9a14-60ff04721a06",
   "metadata": {},
   "outputs": [
    {
     "name": "stdout",
     "output_type": "stream",
     "text": [
      "[1, 2, 3, 4, 5]\n",
      "[1, 4, 9, 16, 25]\n"
     ]
    }
   ],
   "source": [
    "# i have a list like list1=[1,2,3,4,5] now i want to create another list list2 that holds square of list1\n",
    "list1=[1,2,3,4,5]\n",
    "list2=[]\n",
    "for i in list1:\n",
    "    list2.append(i*i)\n",
    "print(list1)\n",
    "print(list2)"
   ]
  },
  {
   "cell_type": "code",
   "execution_count": 4,
   "id": "758e6985-2930-4717-9475-0c5d4469f663",
   "metadata": {},
   "outputs": [
    {
     "name": "stdout",
     "output_type": "stream",
     "text": [
      "['Hyd', 'Bengaluru', 'Delhi']\n"
     ]
    }
   ],
   "source": [
    "city_lower=['hyd','bengaluru','delhi']\n",
    "# expected output is : output=['Hyd','Bengaluru','Delhi']\n",
    "output=[]\n",
    "for i in city_lower:\n",
    "    output.append(i.capitalize())\n",
    "print(output)"
   ]
  },
  {
   "cell_type": "code",
   "execution_count": 10,
   "id": "e33be23d-ddf7-4780-a5df-cf3fb31994b2",
   "metadata": {},
   "outputs": [
    {
     "name": "stdout",
     "output_type": "stream",
     "text": [
      "['Hyd', 'Bengaluru', 'Delhi']\n"
     ]
    }
   ],
   "source": [
    "#another approach of me for the above code\n",
    "output.clear()\n",
    "for i in city_lower:\n",
    "    if i[0].islower():\n",
    "        output.append(i[0].upper()+i[1:])\n",
    "print(output)\n"
   ]
  },
  {
   "cell_type": "code",
   "execution_count": 12,
   "id": "c1308d30-232f-4f3b-b4f0-a848de659a4f",
   "metadata": {},
   "outputs": [
    {
     "name": "stdout",
     "output_type": "stream",
     "text": [
      "['Hyd', 'Bengaluru', 'Delhi']\n"
     ]
    }
   ],
   "source": [
    "cp = output.copy()\n",
    "print(cp)"
   ]
  },
  {
   "cell_type": "code",
   "execution_count": 2,
   "id": "14187fb9-4d4a-4e5d-b347-3c29dbcfd698",
   "metadata": {},
   "outputs": [
    {
     "name": "stdout",
     "output_type": "stream",
     "text": [
      "[1, 2, 3, 4, 5, 6, 7, 8, 9, 10, 11, 12, 13, 14, 15, 16, 17, 18, 19, 20]\n"
     ]
    }
   ],
   "source": [
    "# create a list of 20 numbers 1 to 20\n",
    "num_list=[]\n",
    "for i in range(1,21):\n",
    "    num_list.append(i)\n",
    "print(num_list)"
   ]
  },
  {
   "cell_type": "code",
   "execution_count": 6,
   "id": "5034e1fc-385a-40f5-86b0-422208ce044e",
   "metadata": {},
   "outputs": [
    {
     "name": "stdout",
     "output_type": "stream",
     "text": [
      "[1, 2, 3, 4, 5, 6, 7, 8, 9, 10, 11, 12, 13, 14, 15, 16, 17, 18, 19, 20]\n"
     ]
    }
   ],
   "source": [
    "#applying list comprehension for same problem above\n",
    "num_list.clear()\n",
    "num_list=[i for i in range(1,21)]\n",
    "print(num_list)"
   ]
  },
  {
   "cell_type": "code",
   "execution_count": 8,
   "id": "ff9c4f13-88a0-4a89-93b0-d2b6bca7de03",
   "metadata": {},
   "outputs": [
    {
     "name": "stdout",
     "output_type": "stream",
     "text": [
      "['ab', 'a']\n"
     ]
    }
   ],
   "source": [
    "#Q2 Using list comprehension\n",
    "list4 = ['abcd','abc','ab','a']\n",
    "output = [i for i in list4 if len(i)<3]\n",
    "print(output)"
   ]
  },
  {
   "cell_type": "code",
   "execution_count": 12,
   "id": "9d645eff-7e84-4f7e-add5-52b15a54e20b",
   "metadata": {},
   "outputs": [
    {
     "name": "stdout",
     "output_type": "stream",
     "text": [
      "['odd:1', 'even:2', 'odd:3', 'even:4', 'odd:5', 'even:6']\n"
     ]
    }
   ],
   "source": [
    "# odd and even using list comprehensation\n",
    "numbers=[1,2,3,4,5,6]\n",
    "output = ['even:{}'.format(i) if i%2 == 0 else 'odd:{}'.format(i) for i in numbers]\n",
    "print(output)"
   ]
  },
  {
   "cell_type": "code",
   "execution_count": 14,
   "id": "0eb14241-86a4-4f10-9b4f-39538084a314",
   "metadata": {},
   "outputs": [
    {
     "name": "stdout",
     "output_type": "stream",
     "text": [
      "<reversed object at 0x00000288D0DCCAC0>\n"
     ]
    }
   ],
   "source": [
    "val = reversed(\"python\")\n",
    "print(val)"
   ]
  },
  {
   "cell_type": "code",
   "execution_count": 16,
   "id": "c8fbdaf0-1540-4cbc-afce-1d1c216ba8e7",
   "metadata": {},
   "outputs": [
    {
     "name": "stdout",
     "output_type": "stream",
     "text": [
      "0\n"
     ]
    }
   ],
   "source": [
    "list1 = [100,200,300,100]\n",
    "print(list1.index(100))"
   ]
  },
  {
   "cell_type": "code",
   "execution_count": 20,
   "id": "dab9fe15-32d1-4cbf-b4d3-5d7750dca954",
   "metadata": {},
   "outputs": [
    {
     "name": "stdout",
     "output_type": "stream",
     "text": [
      "[100, 200, 500, 500, 300, 100]\n"
     ]
    }
   ],
   "source": [
    "list1.insert(3,500)\n",
    "print(list1)"
   ]
  },
  {
   "cell_type": "code",
   "execution_count": 22,
   "id": "62e2fd5a-a3d7-4534-a080-831866096786",
   "metadata": {},
   "outputs": [],
   "source": [
    "list1.sort()"
   ]
  },
  {
   "cell_type": "code",
   "execution_count": 24,
   "id": "0ea5c08a-d2eb-4941-82ac-88cd09afd602",
   "metadata": {},
   "outputs": [
    {
     "name": "stdout",
     "output_type": "stream",
     "text": [
      "[100, 100, 200, 300, 500, 500]\n"
     ]
    }
   ],
   "source": [
    "print(list1)"
   ]
  },
  {
   "cell_type": "code",
   "execution_count": 26,
   "id": "a3680642-dc58-45ba-948f-a5a5abeeb7bb",
   "metadata": {},
   "outputs": [],
   "source": [
    "list1.remove(500)"
   ]
  },
  {
   "cell_type": "code",
   "execution_count": 28,
   "id": "5ad334a4-2a8d-4eb3-8173-6b7047dcbb8d",
   "metadata": {},
   "outputs": [
    {
     "data": {
      "text/plain": [
       "[100, 100, 200, 300, 500]"
      ]
     },
     "execution_count": 28,
     "metadata": {},
     "output_type": "execute_result"
    }
   ],
   "source": [
    "list1"
   ]
  },
  {
   "cell_type": "code",
   "execution_count": 30,
   "id": "271b30ce-636e-4473-a222-e3d0190b24a1",
   "metadata": {},
   "outputs": [],
   "source": [
    "list1.remove(100)"
   ]
  },
  {
   "cell_type": "code",
   "execution_count": 32,
   "id": "f4e7ea51-ea10-4f2c-a9fb-99ceab04ab81",
   "metadata": {},
   "outputs": [
    {
     "data": {
      "text/plain": [
       "[100, 200, 300, 500]"
      ]
     },
     "execution_count": 32,
     "metadata": {},
     "output_type": "execute_result"
    }
   ],
   "source": [
    "list1"
   ]
  },
  {
   "cell_type": "code",
   "execution_count": 34,
   "id": "d9dadb44-7ae6-4754-9121-9ca1b335beea",
   "metadata": {},
   "outputs": [
    {
     "name": "stdout",
     "output_type": "stream",
     "text": [
      "500 300 200 100 "
     ]
    }
   ],
   "source": [
    "sort_list = reversed(list1)\n",
    "for i in sort_list:\n",
    "    print(i,end=\" \")"
   ]
  },
  {
   "cell_type": "code",
   "execution_count": 36,
   "id": "52e2dd27-3870-412c-b46e-64d17eca5a3c",
   "metadata": {},
   "outputs": [
    {
     "name": "stdout",
     "output_type": "stream",
     "text": [
      "<list_reverseiterator object at 0x00000288D20028C0>\n"
     ]
    }
   ],
   "source": [
    "print(sort_list)"
   ]
  },
  {
   "cell_type": "code",
   "execution_count": 38,
   "id": "1b35a931-aaca-49e3-9599-7b028e73a0c0",
   "metadata": {},
   "outputs": [
    {
     "name": "stdout",
     "output_type": "stream",
     "text": [
      "0\n"
     ]
    }
   ],
   "source": [
    "list1 = ['a','b','c','b']\n",
    "print(list1.index('a'))"
   ]
  },
  {
   "cell_type": "code",
   "execution_count": 40,
   "id": "28dbf080-1ae2-4c4c-816f-95a1de0a3592",
   "metadata": {},
   "outputs": [
    {
     "ename": "ValueError",
     "evalue": "'a' is not in list",
     "output_type": "error",
     "traceback": [
      "\u001b[1;31m---------------------------------------------------------------------------\u001b[0m",
      "\u001b[1;31mValueError\u001b[0m                                Traceback (most recent call last)",
      "Cell \u001b[1;32mIn[40], line 1\u001b[0m\n\u001b[1;32m----> 1\u001b[0m \u001b[38;5;28mprint\u001b[39m(list1\u001b[38;5;241m.\u001b[39mindex(\u001b[38;5;124m'\u001b[39m\u001b[38;5;124ma\u001b[39m\u001b[38;5;124m'\u001b[39m,list1\u001b[38;5;241m.\u001b[39mindex(\u001b[38;5;124m'\u001b[39m\u001b[38;5;124ma\u001b[39m\u001b[38;5;124m'\u001b[39m)\u001b[38;5;241m+\u001b[39m\u001b[38;5;241m1\u001b[39m))\n",
      "\u001b[1;31mValueError\u001b[0m: 'a' is not in list"
     ]
    }
   ],
   "source": [
    "print(list1.index('a',list1.index('a')+1))"
   ]
  },
  {
   "cell_type": "code",
   "execution_count": 42,
   "id": "16c38959-67d4-46b1-9843-99cb08860acf",
   "metadata": {},
   "outputs": [
    {
     "name": "stdout",
     "output_type": "stream",
     "text": [
      "3\n"
     ]
    }
   ],
   "source": [
    "print(list1.index('b',list1.index('b')+1))"
   ]
  },
  {
   "cell_type": "code",
   "execution_count": 44,
   "id": "bd7631a2-8228-45c2-96ad-8aa520da54aa",
   "metadata": {},
   "outputs": [
    {
     "name": "stdout",
     "output_type": "stream",
     "text": [
      "Ram age is 25\n",
      "Robert age is 30\n",
      "Raheem age is 35\n"
     ]
    }
   ],
   "source": [
    "list1 = ['Ram','Robert','Raheem']\n",
    "list2 = [25,30,35]\n",
    "#expected output is \n",
    "#'Ram age is 25'\n",
    "#'Robert age is 30'\n",
    "#'Raheem age is 35'\n",
    "#-lets dive with the logic\n",
    "list3 = [\"{} age is {}\".format(list1[i],list2[i]) for i in range(len(list1))]\n",
    "for i in list3:\n",
    "    print(i)"
   ]
  },
  {
   "cell_type": "code",
   "execution_count": 50,
   "id": "568243f3-5542-4b2e-ae00-e2058c724e15",
   "metadata": {},
   "outputs": [
    {
     "name": "stdout",
     "output_type": "stream",
     "text": [
      "[125, 230, 335]\n"
     ]
    }
   ],
   "source": [
    "list1 = [100,200,300]\n",
    "list2 = [25,30,35]\n",
    "#expected output is output=[125,230,300]\n",
    "#lets dive with the logic using list comprehension\n",
    "output = [i+j for i,j in zip(list1,list2)]\n",
    "print(output)"
   ]
  },
  {
   "cell_type": "code",
   "execution_count": 14,
   "id": "0e2fc090-33b4-471f-b639-9cfdb1b99b03",
   "metadata": {},
   "outputs": [
    {
     "name": "stdout",
     "output_type": "stream",
     "text": [
      "Prime numbers between 20 and 100\n",
      "[23, 29, 31, 37, 41, 43, 47, 53, 59, 61, 67, 71, 73, 79, 83, 89, 97]\n"
     ]
    }
   ],
   "source": [
    "#print the prime numbers between 20 and 100 in a list\n",
    "# def is_prime(num):\n",
    "#     count=0\n",
    "#     if num<=1:\n",
    "#         return False\n",
    "#     else:\n",
    "#         for i in range(2,(num//2)+1):\n",
    "#             if num%i==0:\n",
    "#                 count+=1\n",
    "#         if(count>0):\n",
    "#             return False\n",
    "#         else:\n",
    "#             return True\n",
    "                \n",
    "prime_numbers=[]\n",
    "\n",
    "for i in range(20,101):\n",
    "    count = 0\n",
    "    for j in range(2,(i//2)+1):\n",
    "        if(i % j==0):\n",
    "            count+=1\n",
    "    if(count==0):\n",
    "        prime_numbers.append(i)\n",
    "            \n",
    "print(\"Prime numbers between 20 and 100\")\n",
    "print(prime_numbers)\n",
    "#you can do using nested for loop or functions        "
   ]
  },
  {
   "cell_type": "code",
   "execution_count": 58,
   "id": "4e4f6b1b-b78b-4c85-a785-5b1f5d169bf5",
   "metadata": {},
   "outputs": [
    {
     "name": "stdout",
     "output_type": "stream",
     "text": [
      "12\n"
     ]
    }
   ],
   "source": [
    "print((23//2)+1)"
   ]
  },
  {
   "cell_type": "code",
   "execution_count": 16,
   "id": "268457c9-ed9f-44bd-8413-bfc94b6f2df7",
   "metadata": {},
   "outputs": [
    {
     "name": "stdout",
     "output_type": "stream",
     "text": [
      "200\n"
     ]
    }
   ],
   "source": [
    "#max in array\n",
    "arr = [100,200,150]\n",
    "max_value=0\n",
    "for i in arr:\n",
    "    if i>max_value:\n",
    "        max_value = i\n",
    "print(max_value)"
   ]
  },
  {
   "cell_type": "code",
   "execution_count": 62,
   "id": "62a88e68-d4d4-4868-a2f1-6be6403bde18",
   "metadata": {},
   "outputs": [
    {
     "name": "stdout",
     "output_type": "stream",
     "text": [
      "The pattern is matching\n",
      "[10, 20, 50, 30, 20, 10]\n"
     ]
    }
   ],
   "source": [
    "# list1 = [10,20,30,50,40,30,20] this is pattern intial increasing and \n",
    "# from one specifed started to decrease if they give any list1 if\n",
    "#the pattern matching return true else false not matching\n",
    "#lets dive the logic\n",
    "list1 = [10,20,50,30,20,10]\n",
    "value=list1[0]\n",
    "con=True\n",
    "for i in range(1,len(list1)):\n",
    "    if(con == False):\n",
    "        break\n",
    "    if list1[i]>value:\n",
    "        value=list1[i]\n",
    "    else:\n",
    "        value=list1[i]\n",
    "        for j in range(i+1,len(list1)):\n",
    "            if(value>list1[j]):\n",
    "                con=True\n",
    "            else:\n",
    "                con=False\n",
    "                break\n",
    "    \n",
    "if(con):\n",
    "    print(\"The pattern is matching\")\n",
    "    print(list1)\n",
    "else:\n",
    "    print(\"No The pattern is not matching\")\n",
    "    print(list1)\n",
    "    \n",
    "        \n",
    "    "
   ]
  },
  {
   "cell_type": "code",
   "execution_count": 72,
   "id": "6b865cc8-8548-4c4c-a43f-710a0f3cfa65",
   "metadata": {},
   "outputs": [
    {
     "data": {
      "text/plain": [
       "{'Ram': 25, 'Raheem': 30, 'Robert': 35}"
      ]
     },
     "execution_count": 72,
     "metadata": {},
     "output_type": "execute_result"
    }
   ],
   "source": [
    "d1={'Ram':25,'Raheem':30,'Robert':35}\n",
    "d1"
   ]
  },
  {
   "cell_type": "code",
   "execution_count": 90,
   "id": "8ed23a13-ccc7-4896-bf50-ed498800695f",
   "metadata": {},
   "outputs": [
    {
     "name": "stdout",
     "output_type": "stream",
     "text": [
      "Ram age is : 25\n",
      "Raheem age is : 30\n",
      "Robert age is : 35\n"
     ]
    }
   ],
   "source": [
    "for i in d1:\n",
    "    print(i,'age is :',d1[i])\n",
    "    "
   ]
  },
  {
   "cell_type": "code",
   "execution_count": 150,
   "id": "3ed840c3-f930-4b5b-8708-125359b5de16",
   "metadata": {},
   "outputs": [
    {
     "data": {
      "text/plain": [
       "{'Ram': 25, 'Robert': 30, 'Raheem': 35}"
      ]
     },
     "execution_count": 150,
     "metadata": {},
     "output_type": "execute_result"
    }
   ],
   "source": [
    "# create a dictionary using 2 lists\n",
    "list1 = ['Ram','Robert','Raheem']\n",
    "list2 = [25,30,35]\n",
    "d1={}\n",
    "d1={i:j for i,j in zip(list1,list2)}\n",
    "    \n",
    "d1"
   ]
  },
  {
   "cell_type": "code",
   "execution_count": 172,
   "id": "3aa4a249-0aae-47b7-9535-c53d6869aaf0",
   "metadata": {},
   "outputs": [
    {
     "name": "stdout",
     "output_type": "stream",
     "text": [
      "{'even': [2, 4, 2], 'odd': [3, 5]}\n"
     ]
    }
   ],
   "source": [
    "# wap take 5 random numbers \n",
    "# create a dictionary with even and odd\n",
    "#lets dive with the logic\n",
    "import random\n",
    "even=[]\n",
    "odd=[]\n",
    "d1={}\n",
    "for i in range(5):\n",
    "    num=random.randint(1,5)\n",
    "    if(num%2==0):\n",
    "        even.append(num)\n",
    "    else:\n",
    "        odd.append(num)\n",
    "\n",
    "d1['even']=even\n",
    "d1['odd']=odd\n",
    "print(d1)"
   ]
  },
  {
   "cell_type": "code",
   "execution_count": 174,
   "id": "e0432d7e-3037-4af5-a3c8-d55b5d4d8b59",
   "metadata": {},
   "outputs": [
    {
     "data": {
      "text/plain": [
       "'C:\\\\Users\\\\v maruthi\\\\OneDrive\\\\Desktop\\\\DataScience(my carrer)'"
      ]
     },
     "execution_count": 174,
     "metadata": {},
     "output_type": "execute_result"
    }
   ],
   "source": [
    "import os\n",
    "os.getcwd()"
   ]
  },
  {
   "cell_type": "code",
   "execution_count": null,
   "id": "46f5dd17-5b59-4d62-8b35-8d349ca4d4d4",
   "metadata": {},
   "outputs": [],
   "source": [
    "  "
   ]
  }
 ],
 "metadata": {
  "kernelspec": {
   "display_name": "Python 3 (ipykernel)",
   "language": "python",
   "name": "python3"
  },
  "language_info": {
   "codemirror_mode": {
    "name": "ipython",
    "version": 3
   },
   "file_extension": ".py",
   "mimetype": "text/x-python",
   "name": "python",
   "nbconvert_exporter": "python",
   "pygments_lexer": "ipython3",
   "version": "3.12.4"
  }
 },
 "nbformat": 4,
 "nbformat_minor": 5
}
