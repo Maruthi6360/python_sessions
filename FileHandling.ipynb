{
 "cells": [
  {
   "cell_type": "code",
   "execution_count": null,
   "id": "46167f87-affd-4bd1-a0bc-dfc8cb9345ea",
   "metadata": {},
   "outputs": [],
   "source": [
    "#This line i am changing by maruthi branch"
   ]
  },
  {
   "cell_type": "code",
   "execution_count": 7,
   "id": "ec1aa73c-e435-4986-bdaf-64bd4e4f4d8c",
   "metadata": {},
   "outputs": [
    {
     "ename": "SyntaxError",
     "evalue": "(unicode error) 'unicodeescape' codec can't decode bytes in position 2-3: truncated \\UXXXXXXXX escape (2417589890.py, line 4)",
     "output_type": "error",
     "traceback": [
      "\u001b[1;36m  Cell \u001b[1;32mIn[7], line 4\u001b[1;36m\u001b[0m\n\u001b[1;33m    location =  \"C:\\Users\\v maruthi\\Downloads\"\u001b[0m\n\u001b[1;37m                ^\u001b[0m\n\u001b[1;31mSyntaxError\u001b[0m\u001b[1;31m:\u001b[0m (unicode error) 'unicodeescape' codec can't decode bytes in position 2-3: truncated \\UXXXXXXXX escape\n"
     ]
    }
   ],
   "source": [
    "#location :-  C:\\Users\\v maruthi\\Downloads\n",
    "#filename :- extracted_email_headers\n",
    "#extensiom :- .txt\n",
    "location =  \"C:\\Users\\v maruthi\\Downloads\"\n",
    "filename = \"extracted_email_headers\"\n",
    "extensiom = \".txt\"\n",
    "location\n"
   ]
  },
  {
   "cell_type": "code",
   "execution_count": 24,
   "id": "7dd45ac4-ed01-4c56-9556-237808d5de2c",
   "metadata": {},
   "outputs": [
    {
     "data": {
      "text/plain": [
       "'C:\\\\Data_science\\\\TextFiles\\\\extracted_email_headers.txt'"
      ]
     },
     "execution_count": 24,
     "metadata": {},
     "output_type": "execute_result"
    }
   ],
   "source": [
    "# The above error for single \\ i am using. for reading i should have to\n",
    "# use \\\\ double slashes otherwise unicode error will be raise\n",
    "location =  \"C:\\\\Data_science\\\\TextFiles\"\n",
    "filename = \"extracted_email_headers\"\n",
    "extension = \".txt\"\n",
    "file_path=\"C:\\\\Data_science\\\\TextFiles\\\\extracted_email_headers.txt\"\n",
    "file_path"
   ]
  },
  {
   "cell_type": "code",
   "execution_count": 48,
   "id": "8acc62b5-8e48-47c6-8dd7-807f730a0bd3",
   "metadata": {},
   "outputs": [],
   "source": [
    "file=open(file_path) #open file you should know about mode read/write r/w\n",
    "#default it is in read mode and store it to some variable"
   ]
  },
  {
   "cell_type": "code",
   "execution_count": 50,
   "id": "57384a30-9b83-4def-90c2-24f887cf1fc4",
   "metadata": {},
   "outputs": [
    {
     "name": "stdout",
     "output_type": "stream",
     "text": [
      "From stephen.marquard@uct.ac.za Sat Jan 5 09:14:16 2008\n",
      "Return-Path: <postmaster@collab.sakaiproject.org>\n",
      "Received: from murder (mail.umich.edu [141.211.14.90])\n",
      "by frankenstein.mail.umich.edu (Cyrus v2.3.8) with LMTPA;\n",
      "Sat, @5 Jan 2008 09:14:16 -@500\n",
      "X-Sieve: CMU Sieve 2.3\n",
      "Received: from murder ([unix socket])\n",
      "by mail.umich.edu (Cyrus v2.2.12) with LMTPA;\n",
      "Sat, @5 Jan 2008 09:14:16 -2@500\n",
      "Received: from holes.mr.itd.umich.edu (holes.mr.itd.umich.edu [141.211.14.79])\n",
      "by flawless.mail.umich.edu () with ESMTP id m@S5EEFR1013674;\n",
      "Sat, 5 Jan 2008 09:14:15 -0500\n",
      "Received: FROM paploo.uhi.ac.uk (app1.prod.collab.uhi.ac.uk [194.35.219.184])\n",
      "BY holes.mr.itd.umich.edu ID 477F9@B@.2DB2F.12494 ;\n",
      "5 Jan 2008 09:14:10 -e500\n",
      "Received: from paploo.uhi.ac.uk (localhost [127.0.0.1])\n",
      "by paploo.uhi.ac.uk (Postfix) with ESMTP id 5F919BC2F2;\n",
      "Sat, 5 Jan 2008 14:10:05 +8000 (GMT)\n",
      "Message-ID: <200801051412.m@5ECIaH@10327@nakamura.uits.iupui.edu>\n",
      "Mime-Version: 1.0\n",
      "\n"
     ]
    }
   ],
   "source": [
    "print(file.read())"
   ]
  },
  {
   "cell_type": "code",
   "execution_count": 54,
   "id": "63a147ad-3fa0-43e3-8d57-46111ee0cbe6",
   "metadata": {},
   "outputs": [
    {
     "data": {
      "text/plain": [
       "'C:\\\\Users\\\\v maruthi\\\\OneDrive\\\\Desktop\\\\DataScience(my carrer)'"
      ]
     },
     "execution_count": 54,
     "metadata": {},
     "output_type": "execute_result"
    }
   ],
   "source": [
    "import os\n",
    "os.getcwd()"
   ]
  },
  {
   "cell_type": "code",
   "execution_count": 56,
   "id": "fff89bff-8940-454c-9944-b8963b0a1503",
   "metadata": {},
   "outputs": [
    {
     "data": {
      "text/plain": [
       "['DirEntry',\n",
       " 'EX_OK',\n",
       " 'F_OK',\n",
       " 'GenericAlias',\n",
       " 'Mapping',\n",
       " 'MutableMapping',\n",
       " 'O_APPEND',\n",
       " 'O_BINARY',\n",
       " 'O_CREAT',\n",
       " 'O_EXCL',\n",
       " 'O_NOINHERIT',\n",
       " 'O_RANDOM',\n",
       " 'O_RDONLY',\n",
       " 'O_RDWR',\n",
       " 'O_SEQUENTIAL',\n",
       " 'O_SHORT_LIVED',\n",
       " 'O_TEMPORARY',\n",
       " 'O_TEXT',\n",
       " 'O_TRUNC',\n",
       " 'O_WRONLY',\n",
       " 'P_DETACH',\n",
       " 'P_NOWAIT',\n",
       " 'P_NOWAITO',\n",
       " 'P_OVERLAY',\n",
       " 'P_WAIT',\n",
       " 'PathLike',\n",
       " 'R_OK',\n",
       " 'SEEK_CUR',\n",
       " 'SEEK_END',\n",
       " 'SEEK_SET',\n",
       " 'TMP_MAX',\n",
       " 'W_OK',\n",
       " 'X_OK',\n",
       " '_AddedDllDirectory',\n",
       " '_Environ',\n",
       " '__all__',\n",
       " '__builtins__',\n",
       " '__doc__',\n",
       " '__file__',\n",
       " '__loader__',\n",
       " '__name__',\n",
       " '__package__',\n",
       " '__spec__',\n",
       " '_check_methods',\n",
       " '_execvpe',\n",
       " '_exists',\n",
       " '_exit',\n",
       " '_fspath',\n",
       " '_get_exports_list',\n",
       " '_walk_symlinks_as_files',\n",
       " '_wrap_close',\n",
       " 'abc',\n",
       " 'abort',\n",
       " 'access',\n",
       " 'add_dll_directory',\n",
       " 'altsep',\n",
       " 'chdir',\n",
       " 'chmod',\n",
       " 'close',\n",
       " 'closerange',\n",
       " 'cpu_count',\n",
       " 'curdir',\n",
       " 'defpath',\n",
       " 'device_encoding',\n",
       " 'devnull',\n",
       " 'dup',\n",
       " 'dup2',\n",
       " 'environ',\n",
       " 'error',\n",
       " 'execl',\n",
       " 'execle',\n",
       " 'execlp',\n",
       " 'execlpe',\n",
       " 'execv',\n",
       " 'execve',\n",
       " 'execvp',\n",
       " 'execvpe',\n",
       " 'extsep',\n",
       " 'fdopen',\n",
       " 'fsdecode',\n",
       " 'fsencode',\n",
       " 'fspath',\n",
       " 'fstat',\n",
       " 'fsync',\n",
       " 'ftruncate',\n",
       " 'get_blocking',\n",
       " 'get_exec_path',\n",
       " 'get_handle_inheritable',\n",
       " 'get_inheritable',\n",
       " 'get_terminal_size',\n",
       " 'getcwd',\n",
       " 'getcwdb',\n",
       " 'getenv',\n",
       " 'getlogin',\n",
       " 'getpid',\n",
       " 'getppid',\n",
       " 'isatty',\n",
       " 'kill',\n",
       " 'linesep',\n",
       " 'link',\n",
       " 'listdir',\n",
       " 'listdrives',\n",
       " 'listmounts',\n",
       " 'listvolumes',\n",
       " 'lseek',\n",
       " 'lstat',\n",
       " 'makedirs',\n",
       " 'mkdir',\n",
       " 'name',\n",
       " 'open',\n",
       " 'pardir',\n",
       " 'path',\n",
       " 'pathsep',\n",
       " 'pipe',\n",
       " 'popen',\n",
       " 'putenv',\n",
       " 'read',\n",
       " 'readlink',\n",
       " 'remove',\n",
       " 'removedirs',\n",
       " 'rename',\n",
       " 'renames',\n",
       " 'replace',\n",
       " 'rmdir',\n",
       " 'scandir',\n",
       " 'sep',\n",
       " 'set_blocking',\n",
       " 'set_handle_inheritable',\n",
       " 'set_inheritable',\n",
       " 'spawnl',\n",
       " 'spawnle',\n",
       " 'spawnv',\n",
       " 'spawnve',\n",
       " 'st',\n",
       " 'startfile',\n",
       " 'stat',\n",
       " 'stat_result',\n",
       " 'statvfs_result',\n",
       " 'strerror',\n",
       " 'supports_bytes_environ',\n",
       " 'supports_dir_fd',\n",
       " 'supports_effective_ids',\n",
       " 'supports_fd',\n",
       " 'supports_follow_symlinks',\n",
       " 'symlink',\n",
       " 'sys',\n",
       " 'system',\n",
       " 'terminal_size',\n",
       " 'times',\n",
       " 'times_result',\n",
       " 'truncate',\n",
       " 'umask',\n",
       " 'uname_result',\n",
       " 'unlink',\n",
       " 'unsetenv',\n",
       " 'urandom',\n",
       " 'utime',\n",
       " 'waitpid',\n",
       " 'waitstatus_to_exitcode',\n",
       " 'walk',\n",
       " 'write']"
      ]
     },
     "execution_count": 56,
     "metadata": {},
     "output_type": "execute_result"
    }
   ],
   "source": [
    "dir(os)"
   ]
  },
  {
   "cell_type": "code",
   "execution_count": 62,
   "id": "6bf6865f-42bf-4f8c-bc82-90989dc72bb8",
   "metadata": {},
   "outputs": [],
   "source": [
    "os.chdir(\"C:\\\\Data_science\\\\TextFiles\") #i changed my python file directory to diectory where my \n",
    "#my text file exists"
   ]
  },
  {
   "cell_type": "code",
   "execution_count": 64,
   "id": "901865b5-1836-4146-ae9e-1a3a442823de",
   "metadata": {},
   "outputs": [
    {
     "data": {
      "text/plain": [
       "'C:\\\\Data_science\\\\TextFiles'"
      ]
     },
     "execution_count": 64,
     "metadata": {},
     "output_type": "execute_result"
    }
   ],
   "source": [
    "os.getcwd()#to see the current directory after changing directory"
   ]
  },
  {
   "cell_type": "code",
   "execution_count": 72,
   "id": "bd7c3786-4810-4c3c-aa35-4ae6ab04aea1",
   "metadata": {},
   "outputs": [],
   "source": [
    "file = open(\"extracted_email_headers.txt\") #only name is enough"
   ]
  },
  {
   "cell_type": "code",
   "execution_count": 74,
   "id": "6fc3fca4-039b-4032-bcdb-abc78013574b",
   "metadata": {},
   "outputs": [
    {
     "name": "stdout",
     "output_type": "stream",
     "text": [
      "From stephen.marquard@uct.ac.za Sat Jan 5 09:14:16 2008\n",
      "Return-Path: <postmaster@collab.sakaiproject.org>\n",
      "Received: from murder (mail.umich.edu [141.211.14.90])\n",
      "by frankenstein.mail.umich.edu (Cyrus v2.3.8) with LMTPA;\n",
      "Sat, @5 Jan 2008 09:14:16 -@500\n",
      "X-Sieve: CMU Sieve 2.3\n",
      "Received: from murder ([unix socket])\n",
      "by mail.umich.edu (Cyrus v2.2.12) with LMTPA;\n",
      "Sat, @5 Jan 2008 09:14:16 -2@500\n",
      "Received: from holes.mr.itd.umich.edu (holes.mr.itd.umich.edu [141.211.14.79])\n",
      "by flawless.mail.umich.edu () with ESMTP id m@S5EEFR1013674;\n",
      "Sat, 5 Jan 2008 09:14:15 -0500\n",
      "Received: FROM paploo.uhi.ac.uk (app1.prod.collab.uhi.ac.uk [194.35.219.184])\n",
      "BY holes.mr.itd.umich.edu ID 477F9@B@.2DB2F.12494 ;\n",
      "5 Jan 2008 09:14:10 -e500\n",
      "Received: from paploo.uhi.ac.uk (localhost [127.0.0.1])\n",
      "by paploo.uhi.ac.uk (Postfix) with ESMTP id 5F919BC2F2;\n",
      "Sat, 5 Jan 2008 14:10:05 +8000 (GMT)\n",
      "Message-ID: <200801051412.m@5ECIaH@10327@nakamura.uits.iupui.edu>\n",
      "Mime-Version: 1.0\n",
      "\n"
     ]
    }
   ],
   "source": [
    "print(file.read())"
   ]
  },
  {
   "cell_type": "code",
   "execution_count": 93,
   "id": "76898d74-9274-4f46-835e-724962ca7f4a",
   "metadata": {},
   "outputs": [
    {
     "name": "stdout",
     "output_type": "stream",
     "text": [
      "Number of lines in a file :  20\n"
     ]
    }
   ],
   "source": [
    "# using with keyword \n",
    "with open(\"extracted_email_headers.txt\") as file:\n",
    "    count=0\n",
    "    for i in file:\n",
    "        count+=1\n",
    "print(\"Number of lines in a file : \",count) #before reading the file only your able to get \n",
    "#number of lines else it will gives each characters\n",
    "        "
   ]
  },
  {
   "cell_type": "code",
   "execution_count": 101,
   "id": "5aba2e97-f62a-47cc-8e2f-0f438e264a68",
   "metadata": {},
   "outputs": [
    {
     "name": "stdout",
     "output_type": "stream",
     "text": [
      "0 From stephen.marquard@uct.ac.za Sat Jan 5 09:14:16 2008\n",
      "\n",
      "1 Return-Path: <postmaster@collab.sakaiproject.org>\n",
      "\n",
      "2 Received: from murder (mail.umich.edu [141.211.14.90])\n",
      "\n",
      "3 by frankenstein.mail.umich.edu (Cyrus v2.3.8) with LMTPA;\n",
      "\n",
      "4 Sat, @5 Jan 2008 09:14:16 -@500\n",
      "\n",
      "5 X-Sieve: CMU Sieve 2.3\n",
      "\n",
      "6 Received: from murder ([unix socket])\n",
      "\n",
      "7 by mail.umich.edu (Cyrus v2.2.12) with LMTPA;\n",
      "\n",
      "8 Sat, @5 Jan 2008 09:14:16 -2@500\n",
      "\n",
      "9 Received: from holes.mr.itd.umich.edu (holes.mr.itd.umich.edu [141.211.14.79])\n",
      "\n",
      "10 by flawless.mail.umich.edu () with ESMTP id m@S5EEFR1013674;\n",
      "\n",
      "11 Sat, 5 Jan 2008 09:14:15 -0500\n",
      "\n",
      "12 Received: FROM paploo.uhi.ac.uk (app1.prod.collab.uhi.ac.uk [194.35.219.184])\n",
      "\n",
      "13 BY holes.mr.itd.umich.edu ID 477F9@B@.2DB2F.12494 ;\n",
      "\n",
      "14 5 Jan 2008 09:14:10 -e500\n",
      "\n",
      "15 Received: from paploo.uhi.ac.uk (localhost [127.0.0.1])\n",
      "\n",
      "16 by paploo.uhi.ac.uk (Postfix) with ESMTP id 5F919BC2F2;\n",
      "\n",
      "17 Sat, 5 Jan 2008 14:10:05 +8000 (GMT)\n",
      "\n",
      "18 Message-ID: <200801051412.m@5ECIaH@10327@nakamura.uits.iupui.edu>\n",
      "\n",
      "19 Mime-Version: 1.0\n",
      "\n",
      "Number of lines : 20\n"
     ]
    }
   ],
   "source": [
    "#enumerate keyword which gives 2 things index and lines\n",
    "with open(\"extracted_email_headers.txt\") as file:\n",
    "    count=0\n",
    "    li=[]\n",
    "    for index,line in enumerate(file):\n",
    "        print(index,line)\n",
    "        li.append(index)\n",
    "print(\"Number of lines :\",len(li))\n"
   ]
  },
  {
   "cell_type": "code",
   "execution_count": 109,
   "id": "609afd55-eb6f-4327-983c-5a5a47e3006e",
   "metadata": {},
   "outputs": [
    {
     "name": "stdout",
     "output_type": "stream",
     "text": [
      "Mime-Version: 1.0\n",
      "\n",
      "20\n"
     ]
    }
   ],
   "source": [
    "#2nd method to get number of lines \n",
    "with open(\"extracted_email_headers.txt\") as file:\n",
    "    for index,line in enumerate(file):\n",
    "        pass\n",
    "print(line)\n",
    "print(index+1)"
   ]
  },
  {
   "cell_type": "code",
   "execution_count": 115,
   "id": "57e03cfc-f28c-44dc-a2cd-e166d9bd76ec",
   "metadata": {},
   "outputs": [
    {
     "name": "stdout",
     "output_type": "stream",
     "text": [
      "[0, 1, 2, 3, 4, 5, 6, 7, 8, 9, 10, 11, 12, 13, 14, 15, 16, 17, 18, 19]\n"
     ]
    }
   ],
   "source": [
    "#3rd method to get number of lines\n",
    "# using list comprehension\n",
    "with open(\"extracted_email_headers.txt\") as file:\n",
    "    li=[index[0] for index in enumerate(file)] #here what heppens enumerate always returns \n",
    "    #two values index and line so here all two are storing in index [(0,line_content)] \n",
    "    #only so we are using\n",
    "    #index[0] two get only indexes not lines \n",
    "print(li)"
   ]
  },
  {
   "cell_type": "code",
   "execution_count": 117,
   "id": "7ce34585-1d09-4683-9f3f-56730b6d04db",
   "metadata": {},
   "outputs": [
    {
     "name": "stdout",
     "output_type": "stream",
     "text": [
      "[0, 1, 2, 3, 4, 5, 6, 7, 8, 9, 10, 11, 12, 13, 14, 15, 16, 17, 18, 19]\n"
     ]
    }
   ],
   "source": [
    "#we can use one more approach taking another to store\n",
    "#lines in that and igone that variable and assign only index to \n",
    "#list, to ignore we take _ as variable\n",
    "with open(\"extracted_email_headers.txt\") as file:\n",
    "    li=[index for index,_ in enumerate(file)]\n",
    "print(li)\n"
   ]
  },
  {
   "cell_type": "code",
   "execution_count": 121,
   "id": "ab6a3264-b4ce-4b75-a498-e924333c7e26",
   "metadata": {},
   "outputs": [
    {
     "name": "stdout",
     "output_type": "stream",
     "text": [
      "1 From stephen.marquard@uct.ac.za Sat Jan 5 09:14:16 2008\n",
      "\n",
      "2 Return-Path: <postmaster@collab.sakaiproject.org>\n",
      "\n",
      "3 Received: from murder (mail.umich.edu [141.211.14.90])\n",
      "\n",
      "4 by frankenstein.mail.umich.edu (Cyrus v2.3.8) with LMTPA;\n",
      "\n",
      "5 Sat, @5 Jan 2008 09:14:16 -@500\n",
      "\n",
      "6 X-Sieve: CMU Sieve 2.3\n",
      "\n",
      "7 Received: from murder ([unix socket])\n",
      "\n",
      "8 by mail.umich.edu (Cyrus v2.2.12) with LMTPA;\n",
      "\n",
      "9 Sat, @5 Jan 2008 09:14:16 -2@500\n",
      "\n",
      "10 Received: from holes.mr.itd.umich.edu (holes.mr.itd.umich.edu [141.211.14.79])\n",
      "\n"
     ]
    }
   ],
   "source": [
    "# Q3 print first 10 lines\n",
    "with open(\"extracted_email_headers.txt\") as file:\n",
    "    for index,line in enumerate(file):\n",
    "        if(index == 10):\n",
    "            break\n",
    "        else:\n",
    "            print(index+1,line)\n"
   ]
  },
  {
   "cell_type": "code",
   "execution_count": 152,
   "id": "bf88cac0-ae64-487a-a286-5dd9dd7b8d25",
   "metadata": {},
   "outputs": [
    {
     "name": "stdout",
     "output_type": "stream",
     "text": [
      "(0, 'From stephen.marquard@uct.ac.za Sat Jan 5 09:14:16 2008\\n')\n",
      "(1, 'Return-Path: <postmaster@collab.sakaiproject.org>\\n')\n",
      "(2, 'Received: from murder (mail.umich.edu [141.211.14.90])\\n')\n",
      "(3, 'by frankenstein.mail.umich.edu (Cyrus v2.3.8) with LMTPA;\\n')\n",
      "(4, 'Sat, @5 Jan 2008 09:14:16 -@500\\n')\n",
      "(5, 'X-Sieve: CMU Sieve 2.3\\n')\n",
      "(6, 'Received: from murder ([unix socket])\\n')\n",
      "(7, 'by mail.umich.edu (Cyrus v2.2.12) with LMTPA;\\n')\n",
      "(8, 'Sat, @5 Jan 2008 09:14:16 -2@500\\n')\n",
      "(9, 'Received: from holes.mr.itd.umich.edu (holes.mr.itd.umich.edu [141.211.14.79])\\n')\n"
     ]
    }
   ],
   "source": [
    "#same Q with list comprehension only 10 lines\n",
    "with open(\"extracted_email_headers.txt\") as file:\n",
    "    li=[(index,line) for index,line in enumerate(file) if index<10] #you can also use\n",
    "    #dictionary comprehensive by applying {} instead of [] but it doesnt follow\n",
    "    #order i mean\n",
    "#the output will be:\n",
    "for i in li:\n",
    "    print(i)\n",
    "\n",
    "# (8, 'Sat, @5 Jan 2008 09:14:16 -2@500\\n')\n",
    "# (3, 'by frankenstein.mail.umich.edu (Cyrus v2.3.8) with LMTPA;\\n')\n",
    "# (5, 'X-Sieve: CMU Sieve 2.3\\n')\n",
    "# (4, 'Sat, @5 Jan 2008 09:14:16 -@500\\n')\n",
    "# (9, 'Received: from holes.mr.itd.umich.edu (holes.mr.itd.umich.edu [141.211.14.79])\\n')\n",
    "# (0, 'From stephen.marquard@uct.ac.za Sat Jan 5 09:14:16 2008\\n')\n",
    "# (1, 'Return-Path: <postmaster@collab.sakaiproject.org>\\n')\n",
    "# (7, 'by mail.umich.edu (Cyrus v2.2.12) with LMTPA;\\n')\n",
    "# (2, 'Received: from murder (mail.umich.edu [141.211.14.90])\\n')\n",
    "# (6, 'Received: from murder ([unix socket])\\n')\n",
    "\n",
    "\n"
   ]
  },
  {
   "cell_type": "code",
   "execution_count": 160,
   "id": "0089510f-00c1-4cc0-baee-f151f0d664f8",
   "metadata": {},
   "outputs": [
    {
     "name": "stdout",
     "output_type": "stream",
     "text": [
      "1 From stephen.marquard@uct.ac.za Sat Jan 5 09:14:16 2008\n",
      "\n",
      "2 Return-Path: <postmaster@collab.sakaiproject.org>\n",
      "\n",
      "3 Received: from murder (mail.umich.edu [141.211.14.90])\n",
      "\n",
      "4 by frankenstein.mail.umich.edu (Cyrus v2.3.8) with LMTPA;\n",
      "\n",
      "5 Sat, @5 Jan 2008 09:14:16 -@500\n",
      "\n",
      "6 X-Sieve: CMU Sieve 2.3\n",
      "\n",
      "7 Received: from murder ([unix socket])\n",
      "\n",
      "8 by mail.umich.edu (Cyrus v2.2.12) with LMTPA;\n",
      "\n",
      "9 Sat, @5 Jan 2008 09:14:16 -2@500\n",
      "\n",
      "10 Received: from holes.mr.itd.umich.edu (holes.mr.itd.umich.edu [141.211.14.79])\n",
      "\n"
     ]
    }
   ],
   "source": [
    "# Q3 print first 10 lines with same alignment no starting spaces look at the below output\n",
    "#we can use lstrip method\n",
    "with open(\"extracted_email_headers.txt\") as file:\n",
    "    for index,line in enumerate(file):\n",
    "        if(index == 10):\n",
    "            break\n",
    "        else:\n",
    "            print(index+1,line.lstrip()) #using lstrip to remove left hand side spaces\n",
    "            #else it will be in the random order like with starting space"
   ]
  },
  {
   "cell_type": "code",
   "execution_count": 189,
   "id": "fe9f9287-e9a3-4248-b1fe-13196071ece9",
   "metadata": {},
   "outputs": [
    {
     "name": "stdout",
     "output_type": "stream",
     "text": [
      "['from stephen.marquard@uct.ac.za Sat Jan 5 09:14:16 2008\\n']\n",
      "number of lines :  1\n"
     ]
    }
   ],
   "source": [
    "# Q4 extract the lines those starting with from\n",
    "#and keep your ans in the list\n",
    "#number of lines you got\n",
    "# with open(\"extracted_email_headers.txt\") as file:\n",
    "#     li=[]\n",
    "#     for line in file:\n",
    "#         if(line.startswith('from') or line.startswith('From')):\n",
    "#             li.append(line)\n",
    "#     print(li)\n",
    "#     print(\"Number of lines : \",len(li))\n",
    "# Q4 list comprehension for the above code\n",
    "with open(\"extracted_email_headers.txt\") as file:\n",
    "    li=[line for line in file if line.startswith('from') or line.startswith('From')]\n",
    "    print(li)\n",
    "    print(\"number of lines : \",len(li))\n",
    " \n",
    "\n",
    "        "
   ]
  },
  {
   "cell_type": "code",
   "execution_count": 191,
   "id": "5a3f9489-8b84-4ae4-ba0b-510a69df72a5",
   "metadata": {},
   "outputs": [
    {
     "name": "stdout",
     "output_type": "stream",
     "text": [
      "['from stephen.marquard@uct.ac.za Sat Jan 5 09:14:16 2008']\n",
      "number of lines :  1\n"
     ]
    }
   ],
   "source": [
    "# Q4 above we are seeing \\n right we will remove that ok\n",
    "with open(\"extracted_email_headers.txt\") as file:\n",
    "    li=[line.rstrip('\\n') for line in file if line.startswith('from') or line.startswith('From')]\n",
    "    print(li)\n",
    "    print(\"number of lines : \",len(li))\n"
   ]
  },
  {
   "cell_type": "code",
   "execution_count": 235,
   "id": "3ea39953-2431-42ed-a312-523f655a00d8",
   "metadata": {},
   "outputs": [
    {
     "name": "stdout",
     "output_type": "stream",
     "text": [
      "['stephen.marquard@uct.ac.za', 'stephen.marquard@uct.ac.za']\n"
     ]
    }
   ],
   "source": [
    "# Q5 extract the email from the lines\n",
    "with open(\"extracted_email_headers.txt\") as file:\n",
    "    li=[line.rstrip('\\n') for line in file if line.startswith('from') or line.startswith('From')]\n",
    "    emails=[i[i.find(' ')+1:i.find(' ',(i.find(' '))+1)] for i in li ]\n",
    "print(emails)\n"
   ]
  },
  {
   "cell_type": "code",
   "execution_count": 259,
   "id": "00bb414f-ea1f-4efa-99b1-782894f0ba66",
   "metadata": {},
   "outputs": [
    {
     "name": "stdout",
     "output_type": "stream",
     "text": [
      "['stephen.marquard@uct.ac.za']\n"
     ]
    }
   ],
   "source": [
    "#another approach for the Q5\n",
    "email=[]\n",
    "for i in li:\n",
    "    if i.split()[1] not in email:\n",
    "        email.append(i.split()[1])\n",
    "print(email) "
   ]
  },
  {
   "cell_type": "code",
   "execution_count": 271,
   "id": "e18b6101-f571-4b3b-bbe3-c66aee19acd2",
   "metadata": {},
   "outputs": [
    {
     "name": "stdout",
     "output_type": "stream",
     "text": [
      "Line 1 : numbers of vowels exist is : 4 and those are : ['o', 'e', 'a', 'u']\n",
      "Line 2 : numbers of vowels exist is : 4 and those are : ['o', 'e', 'a', 'u']\n",
      "Line 3 : numbers of vowels exist is : 5 and those are : ['e', 'u', 'a', 'o', 'i']\n",
      "Line 4 : numbers of vowels exist is : 5 and those are : ['e', 'i', 'o', 'u', 'a']\n",
      "Line 5 : numbers of vowels exist is : 5 and those are : ['a', 'e', 'i', 'u', 'A']\n",
      "Line 6 : numbers of vowels exist is : 1 and those are : ['a']\n",
      "Line 7 : numbers of vowels exist is : 3 and those are : ['i', 'e', 'U']\n",
      "Line 8 : numbers of vowels exist is : 4 and those are : ['e', 'i', 'o', 'u']\n",
      "Line 9 : numbers of vowels exist is : 5 and those are : ['a', 'i', 'u', 'e', 'A']\n",
      "Line 10 : numbers of vowels exist is : 1 and those are : ['a']\n",
      "Line 11 : numbers of vowels exist is : 4 and those are : ['e', 'i', 'o', 'u']\n",
      "Line 12 : numbers of vowels exist is : 5 and those are : ['a', 'e', 'i', 'u', 'E']\n",
      "Line 13 : numbers of vowels exist is : 1 and those are : ['a']\n",
      "Line 14 : numbers of vowels exist is : 6 and those are : ['e', 'i', 'O', 'a', 'o', 'u']\n",
      "Line 15 : numbers of vowels exist is : 5 and those are : ['o', 'e', 'i', 'u', 'I']\n",
      "Line 16 : numbers of vowels exist is : 2 and those are : ['a', 'e']\n",
      "Line 17 : numbers of vowels exist is : 5 and those are : ['e', 'i', 'o', 'a', 'u']\n",
      "Line 18 : numbers of vowels exist is : 5 and those are : ['a', 'o', 'u', 'i', 'E']\n",
      "Line 19 : numbers of vowels exist is : 1 and those are : ['a']\n",
      "Line 20 : numbers of vowels exist is : 6 and those are : ['e', 'a', 'I', 'E', 'u', 'i']\n",
      "Line 21 : numbers of vowels exist is : 3 and those are : ['i', 'e', 'o']\n"
     ]
    }
   ],
   "source": [
    "# #number of vowels and those vowels in the list form and in every line ovels should be unique\n",
    "# with open(\"extracted_email_headers.txt\") as file:\n",
    "#     vowels=['a','e','i','o','u']\n",
    "#     count=0\n",
    "#     for index,line in enumerate(file):\n",
    "#         vowel_count=[]\n",
    "#         for chr in line:\n",
    "#             if(chr.lower() in vowels):\n",
    "                \n",
    "#                 if(chr not in vowel_count):\n",
    "#                     vowel_count.append(chr)\n",
    "#         count=len(vowel_count)\n",
    "                    \n",
    "#         print(\"Line {} : numbers of vowels exist is : {} and those are : {}\".format(index+1,count,vowel_count))\n",
    "                \n",
    "        "
   ]
  },
  {
   "cell_type": "code",
   "execution_count": 283,
   "id": "e4de6107-ce3a-4fac-9f64-5ded2e9cb734",
   "metadata": {},
   "outputs": [
    {
     "name": "stdout",
     "output_type": "stream",
     "text": [
      "Line 1 : numbers of vowels exist is : 11 and those are : {'o': 1, 'e': 2, 'a': 4, 'u': 5}\n",
      "Line 2 : numbers of vowels exist is : 11 and those are : {'o': 1, 'e': 2, 'a': 4, 'u': 5}\n",
      "Line 3 : numbers of vowels exist is : 14 and those are : {'e': 1, 'u': 2, 'a': 3, 'o': 4, 'i': 11}\n",
      "Line 4 : numbers of vowels exist is : 13 and those are : {'e': 1, 'i': 3, 'o': 5, 'u': 6, 'a': 8}\n",
      "Line 5 : numbers of vowels exist is : 13 and those are : {'a': 1, 'e': 2, 'i': 4, 'u': 7, 'A': 13}\n",
      "Line 6 : numbers of vowels exist is : 2 and those are : {'a': 1}\n",
      "Line 7 : numbers of vowels exist is : 7 and those are : {'i': 1, 'e': 2, 'U': 4}\n",
      "Line 8 : numbers of vowels exist is : 11 and those are : {'e': 1, 'i': 3, 'o': 5, 'u': 6}\n",
      "Line 9 : numbers of vowels exist is : 9 and those are : {'a': 1, 'i': 2, 'u': 3, 'e': 5, 'A': 9}\n",
      "Line 10 : numbers of vowels exist is : 2 and those are : {'a': 1}\n",
      "Line 11 : numbers of vowels exist is : 19 and those are : {'e': 1, 'i': 3, 'o': 5, 'u': 9}\n",
      "Line 12 : numbers of vowels exist is : 13 and those are : {'a': 1, 'e': 2, 'i': 4, 'u': 5, 'E': 10}\n",
      "Line 13 : numbers of vowels exist is : 2 and those are : {'a': 1}\n",
      "Line 14 : numbers of vowels exist is : 20 and those are : {'e': 1, 'i': 3, 'O': 5, 'a': 6, 'o': 7, 'u': 9}\n",
      "Line 15 : numbers of vowels exist is : 8 and those are : {'o': 1, 'e': 2, 'i': 3, 'u': 4, 'I': 8}\n",
      "Line 16 : numbers of vowels exist is : 2 and those are : {'a': 1, 'e': 2}\n",
      "Line 17 : numbers of vowels exist is : 15 and those are : {'e': 1, 'i': 3, 'o': 5, 'a': 6, 'u': 9}\n",
      "Line 18 : numbers of vowels exist is : 12 and those are : {'a': 1, 'o': 2, 'u': 4, 'i': 5, 'E': 11}\n",
      "Line 19 : numbers of vowels exist is : 2 and those are : {'a': 1}\n",
      "Line 20 : numbers of vowels exist is : 19 and those are : {'e': 1, 'a': 2, 'I': 4, 'E': 5, 'u': 10, 'i': 13}\n",
      "Line 21 : numbers of vowels exist is : 5 and those are : {'i': 1, 'e': 2, 'o': 5}\n"
     ]
    }
   ],
   "source": [
    "#can we do the same thing using dict i means {'a':4,'e':2}\n",
    "# lets dive with the logic\n",
    "#number of vowels and those vowels in the list form and in every line ovels should be unique\n",
    "with open(\"extracted_email_headers.txt\") as file:\n",
    "    vowels=['a','e','i','o','u']\n",
    "    \n",
    "    for index,line in enumerate(file):\n",
    "        count=cn=0\n",
    "        d1={}\n",
    "        vowel_count=[]\n",
    "        for chr in line:\n",
    "            if(chr.lower() in vowels):\n",
    "                cn+=1\n",
    "                count+=1\n",
    "                if(chr not in vowel_count):\n",
    "                    vowel_count.append(chr)\n",
    "                    \n",
    "                    d1[chr]=cn\n",
    "        \n",
    "                   \n",
    "        print(\"Line {} : numbers of vowels exist is : {} and those are : {}\".format(index+1,count,d1))\n",
    "                \n",
    "        "
   ]
  },
  {
   "cell_type": "code",
   "execution_count": 377,
   "id": "ff26d80e-655f-4dd1-be81-f4a76920ea8d",
   "metadata": {},
   "outputs": [
    {
     "name": "stdout",
     "output_type": "stream",
     "text": [
      "['Santhanam', 'Bhattacharjee,', 'Bansal,', 'Chandra Shekhar,', '3 Doshi,', 'Shimoga Prakash,', 'Akhouri,', 'Nath,', 'Ponna,', 'Singhal,', 'Gorai,', 'Valdez,', 'Cancel,', 'BONDALAKUNTA,', 'priyanka uppala,', 'Nitin SHINDE,', 'Chidre,', 'Sahu,', 'Sikka,', 'Dara,', 'Pattanshetti,', 'Sharma,', 'Latorena,', 'Abhimanyu Pradhan,', 'Jaiswal,', 'Gupta,', 'Satti,', 'Kumar,', 'Balakrishnan,', 'MS,', 'Cheerala,', 'G D,', 'Nikhil Reddy,', 'Santos,', 'Milan,', 'Gupta,', 'Mandal,', 'Prakash\\nShukla,', 'Naganathan,', 'GAHLOT,', 'Kanjilal,', 'Nallagoni,', 'Sahajan,', 'Nelluri,']\n",
      "['Jayendhran', 'Sankalan', 'Vaishnavi\\n<vaishnavi.a.bansal@accenture.com', 'Pavuluri', 'Hiren\\n<hiren.j.doshi@accenture.com', 'Jeevan', 'Shreyash\\n\\n<shreyash.', 'Nupanga', 'Ramesh', 'Aditya\\n<aditya.d.singhal@accenture.com', 'Sumit', 'Mariele', 'Abigail', 'POOJITHA\\n<p.bondalakunta@accenture.com', 'sai', 'NIKHIL\\n\\n<nikhil.nitin.', 'Swapna', 'Swastik', 'Ankit', 'Sai', 'Sampreet\\n<s.pattanshetti@accenture.com', 'Ayush', 'Zairous', 'Roshankumar', 'Lehar', 'Retik\\n<retik.gupta@accenture.com', 'Phanindra', 'Manish', 'Devi', 'Roshni', 'Vanaja\\n<vanaja.cheerala@accenture.com', 'Chandrashekhar', 'Madithati\\n<m.nikhil.reddy@accenture.com', 'Jeroshelle', 'Gerald', 'Vivek', 'Sumit', 'Ashok', 'Siva', 'NIKHIL\\n<nikhil.gahlot@accenture.com', 'Sourav', 'Onkar', 'Sandra', 'Chaitanya']\n"
     ]
    }
   ],
   "source": [
    "# i have a file omkar sir email like omkarsir_emails.I want to extract\n",
    "# i.first_name\n",
    "# ii.second_name\n",
    "# iii.company_name\n",
    "# iv.emails\n",
    "\n",
    "with open(\"omkarsir_emails.txt\") as f:\n",
    "    \n",
    "    data=[]\n",
    "    data=(f.read()).split(';')\n",
    "    \n",
    "    first_names=[i.strip()[:i.find(',')].strip() for i in data]\n",
    "    sec_names=[i.strip()[i.find(',')+1:i.find(' ',i.find(',')+2)].strip() for i in data]\n",
    "        \n",
    "    print(first_names)\n",
    "    print(sec_names)\n",
    "    # print(company_names)\n",
    "    # print(emails)\n",
    "        \n",
    "    "
   ]
  },
  {
   "cell_type": "code",
   "execution_count": null,
   "id": "aca7d431-0314-442c-8eca-b8ca98a00c2d",
   "metadata": {},
   "outputs": [],
   "source": []
  },
  {
   "cell_type": "code",
   "execution_count": null,
   "id": "f27bce9f-acbf-4108-9e29-6c1a4158dd43",
   "metadata": {},
   "outputs": [],
   "source": []
  }
 ],
 "metadata": {
  "kernelspec": {
   "display_name": "Python 3 (ipykernel)",
   "language": "python",
   "name": "python3"
  },
  "language_info": {
   "codemirror_mode": {
    "name": "ipython",
    "version": 3
   },
   "file_extension": ".py",
   "mimetype": "text/x-python",
   "name": "python",
   "nbconvert_exporter": "python",
   "pygments_lexer": "ipython3",
   "version": "3.12.4"
  }
 },
 "nbformat": 4,
 "nbformat_minor": 5
}
