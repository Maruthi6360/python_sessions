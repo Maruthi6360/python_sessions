{
 "cells": [
  {
   "cell_type": "code",
   "execution_count": 1,
   "id": "e851f28f-02a6-4ff8-af9e-13c377aba972",
   "metadata": {},
   "outputs": [
    {
     "data": {
      "text/plain": [
       "30"
      ]
     },
     "execution_count": 1,
     "metadata": {},
     "output_type": "execute_result"
    }
   ],
   "source": [
    "def add(x):\n",
    "    return x+10\n",
    "add(20)"
   ]
  },
  {
   "cell_type": "code",
   "execution_count": 5,
   "id": "74afedf5-54bc-48ee-bb1c-055d42c2f9d8",
   "metadata": {},
   "outputs": [
    {
     "data": {
      "text/plain": [
       "30"
      ]
     },
     "execution_count": 5,
     "metadata": {},
     "output_type": "execute_result"
    }
   ],
   "source": [
    "#we can do the same thing in one line using lamda\n",
    "#syntax -> fun_name=lamda parameter/argument:block of code\n",
    "add=lambda x:x+10\n",
    "add(20)"
   ]
  },
  {
   "cell_type": "code",
   "execution_count": 7,
   "id": "8cb18c50-5c4b-4c2f-8127-5d5fad63154a",
   "metadata": {},
   "outputs": [
    {
     "data": {
      "text/plain": [
       "100"
      ]
     },
     "execution_count": 7,
     "metadata": {},
     "output_type": "execute_result"
    }
   ],
   "source": [
    "#square of a number using lambda\n",
    "square=lambda x:x*x\n",
    "square(10)"
   ]
  },
  {
   "cell_type": "code",
   "execution_count": 9,
   "id": "f36b29c4-2626-45e4-ab03-dd27d4c7be59",
   "metadata": {},
   "outputs": [
    {
     "data": {
      "text/plain": [
       "30"
      ]
     },
     "execution_count": 9,
     "metadata": {},
     "output_type": "execute_result"
    }
   ],
   "source": [
    "sum=lambda a,b:a+b\n",
    "sum(10,20)"
   ]
  },
  {
   "cell_type": "code",
   "execution_count": 13,
   "id": "33da67b7-8464-4b11-9636-4f677065e89b",
   "metadata": {},
   "outputs": [
    {
     "data": {
      "text/plain": [
       "20.0"
      ]
     },
     "execution_count": 13,
     "metadata": {},
     "output_type": "execute_result"
    }
   ],
   "source": [
    "average = lambda x,y,z:(x+y+z)/3\n",
    "average(10,20,30)"
   ]
  },
  {
   "cell_type": "code",
   "execution_count": 17,
   "id": "167972a5-1cbb-41e4-be33-05ee6d855ceb",
   "metadata": {},
   "outputs": [
    {
     "data": {
      "text/plain": [
       "30.0"
      ]
     },
     "execution_count": 17,
     "metadata": {},
     "output_type": "execute_result"
    }
   ],
   "source": [
    "#for default parameters\n",
    "average=lambda x,y,z=60:(x+y+z)/3\n",
    "average(10,20)"
   ]
  },
  {
   "cell_type": "code",
   "execution_count": 25,
   "id": "67f599be-92e4-4731-9e17-9f391882bbdb",
   "metadata": {},
   "outputs": [
    {
     "data": {
      "text/plain": [
       "20"
      ]
     },
     "execution_count": 25,
     "metadata": {},
     "output_type": "execute_result"
    }
   ],
   "source": [
    "#if-else in lambda\n",
    "#max in two numbers using lambda\n",
    "max_num=lambda x,y:x if x>y else y\n",
    "max_num(10,20)\n"
   ]
  },
  {
   "cell_type": "code",
   "execution_count": 35,
   "id": "3f3b81a4-1c84-4546-9a54-e6160bb6cce6",
   "metadata": {},
   "outputs": [
    {
     "name": "stdout",
     "output_type": "stream",
     "text": [
      "[20]\n"
     ]
    }
   ],
   "source": [
    "#list comprehension for storing the values in list\n",
    "def big(x,y):\n",
    "    li=[x if x>y else y]\n",
    "    print(li)\n",
    "big(20,10)"
   ]
  },
  {
   "cell_type": "code",
   "execution_count": 24,
   "id": "247b6c97-06a9-4810-8765-8b6b2e84f873",
   "metadata": {},
   "outputs": [
    {
     "name": "stdout",
     "output_type": "stream",
     "text": [
      "[['Hyd', 'Mumbai', 'Chennai']]\n"
     ]
    }
   ],
   "source": [
    "#1st approach\n",
    "list1=['hyd','mumbai','chennai']\n",
    "#output should be ['Hyd','Mumbai','Chennai']\n",
    "caps=lambda list1,li:li.append([i.capitalize() for i in list1])\n",
    "output=[]\n",
    "ouput=caps(list1,output)\n",
    "print(output)\n"
   ]
  },
  {
   "cell_type": "code",
   "execution_count": 33,
   "id": "1bd8ecc6-c027-4636-926b-61d287d5e599",
   "metadata": {},
   "outputs": [
    {
     "name": "stdout",
     "output_type": "stream",
     "text": [
      "['Hyd', 'Mumbai', 'Chennai']\n"
     ]
    }
   ],
   "source": [
    "#2nd approach\n",
    "#its another approach to remove extra [] brackets look at the abpve output\n",
    "#check the code at list comprehension\n",
    "list1=['hyd','mumbai','chennai']\n",
    "#output should be ['Hyd','Mumbai','Chennai']\n",
    "caps=lambda list1,li:[li.append(i.capitalize()) for i in list1]\n",
    "output=[]\n",
    "ouput=caps(list1,output)\n",
    "print(output)"
   ]
  },
  {
   "cell_type": "code",
   "execution_count": 37,
   "id": "f607ff4a-bca4-4b85-b3a6-1ba93ca6595e",
   "metadata": {},
   "outputs": [
    {
     "name": "stdout",
     "output_type": "stream",
     "text": [
      "[1, 4, 9, 16, 25]\n"
     ]
    }
   ],
   "source": [
    "#omkar sirs approach\n",
    "#the format of lambda is change for iterations like for loop or any other loop\n",
    "# syntax is list(map(lambda i : i.capitalize(),list))\n",
    "# there are 3 steps refer your notes\n",
    "# Q2 square of a list\n",
    "list1 =[1,2,3,4,5]\n",
    "print(list(map(lambda i : i*i,list1)))\n"
   ]
  },
  {
   "cell_type": "code",
   "execution_count": 41,
   "id": "21fbb6b9-45ad-4b7e-b372-db9e2eec0c35",
   "metadata": {},
   "outputs": [
    {
     "name": "stdout",
     "output_type": "stream",
     "text": [
      "[12, 24, 36]\n"
     ]
    }
   ],
   "source": [
    "#Q3\n",
    "list1 = [1, 2, 3]\n",
    "list2 = [11, 22, 33]\n",
    "#expected output[12, 24, 36]\n",
    "#lets dive with the logic\n",
    "print(list(map(lambda i,j:i+j,list1,list2))) #u cant use zip in lambda function"
   ]
  },
  {
   "cell_type": "code",
   "execution_count": 43,
   "id": "73dbf322-fb98-4ca1-acff-390752b3dd61",
   "metadata": {},
   "outputs": [
    {
     "name": "stdout",
     "output_type": "stream",
     "text": [
      "(12, 24, 36)\n"
     ]
    }
   ],
   "source": [
    "print(tuple(map(lambda i,j:i+j,list1,list2))) #using tuple to wrap"
   ]
  },
  {
   "cell_type": "code",
   "execution_count": 49,
   "id": "fcf3e862-0a54-4200-936c-f5606c12836b",
   "metadata": {},
   "outputs": [
    {
     "name": "stdout",
     "output_type": "stream",
     "text": [
      "<map object at 0x00000226AF29EDA0>\n"
     ]
    }
   ],
   "source": [
    "print(str(map(lambda i,j:i+j,list1,list2))) #if you use string"
   ]
  },
  {
   "cell_type": "code",
   "execution_count": 51,
   "id": "00f0c6b0-8363-4526-999b-1c918923f198",
   "metadata": {},
   "outputs": [
    {
     "ename": "TypeError",
     "evalue": "cannot convert dictionary update sequence element #0 to a sequence",
     "output_type": "error",
     "traceback": [
      "\u001b[1;31m---------------------------------------------------------------------------\u001b[0m",
      "\u001b[1;31mTypeError\u001b[0m                                 Traceback (most recent call last)",
      "Cell \u001b[1;32mIn[51], line 1\u001b[0m\n\u001b[1;32m----> 1\u001b[0m \u001b[38;5;28mprint\u001b[39m(\u001b[38;5;28mdict\u001b[39m(\u001b[38;5;28mmap\u001b[39m(\u001b[38;5;28;01mlambda\u001b[39;00m i,j:i\u001b[38;5;241m+\u001b[39mj,list1,list2)))\n",
      "\u001b[1;31mTypeError\u001b[0m: cannot convert dictionary update sequence element #0 to a sequence"
     ]
    }
   ],
   "source": [
    "print(dict(map(lambda i,j:i+j,list1,list2))) #if you use dictionary"
   ]
  },
  {
   "cell_type": "code",
   "execution_count": 113,
   "id": "d74a4217-d4ce-48e6-98f9-5c13a85a7b3b",
   "metadata": {},
   "outputs": [
    {
     "name": "stdout",
     "output_type": "stream",
     "text": [
      "[True, True, False]\n"
     ]
    },
    {
     "data": {
      "text/plain": [
       "['h#d', 'mum#bai']"
      ]
     },
     "execution_count": 113,
     "metadata": {},
     "output_type": "execute_result"
    }
   ],
   "source": [
    "list1=['h#d','mum#bai','chennai']\n",
    "#expected output elements which has '#'\n",
    "#output:- ['h#d','mum#bai']\n",
    "\n",
    "#using list comprehension\n",
    "# li=[i for i in list1 if '#' in i]\n",
    "# li\n",
    "\n",
    "#using lambda(dont use if. if you do that it will ask for else also in the form of error)\n",
    "# so the code is:\n",
    "print(list(map(lambda i:'#' in i,list1))) #the output is [True, True, False] becaues \n",
    "#you are mapping the conditions with iterator not the values \n",
    "\n",
    "\n",
    "#so instead of using map use \"filter\" method\n",
    "list(filter(lambda i:'#' in i,list1))\n",
    "\n"
   ]
  },
  {
   "cell_type": "code",
   "execution_count": null,
   "id": "187e2688-263f-4913-869a-d6d81e952c7a",
   "metadata": {},
   "outputs": [],
   "source": []
  }
 ],
 "metadata": {
  "kernelspec": {
   "display_name": "Python 3 (ipykernel)",
   "language": "python",
   "name": "python3"
  },
  "language_info": {
   "codemirror_mode": {
    "name": "ipython",
    "version": 3
   },
   "file_extension": ".py",
   "mimetype": "text/x-python",
   "name": "python",
   "nbconvert_exporter": "python",
   "pygments_lexer": "ipython3",
   "version": "3.12.4"
  }
 },
 "nbformat": 4,
 "nbformat_minor": 5
}
